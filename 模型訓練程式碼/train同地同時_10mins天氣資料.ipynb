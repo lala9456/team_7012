{
 "cells": [
  {
   "cell_type": "code",
   "execution_count": 1,
   "metadata": {},
   "outputs": [],
   "source": [
    "import pandas as pd\n",
    "from myfun.addcol import addcolumns\n",
    "import pandas as pd\n",
    "import numpy as np\n",
    "from sklearn.ensemble import RandomForestRegressor\n",
    "from sklearn.model_selection import train_test_split, cross_val_score\n",
    "import joblib\n",
    "import os"
   ]
  },
  {
   "cell_type": "markdown",
   "metadata": {},
   "source": [
    "#### 同地同時法之訓練程式碼(只使用中央氣象局每隔10分鐘的第三方資料進行訓練)"
   ]
  },
  {
   "cell_type": "code",
   "execution_count": null,
   "metadata": {},
   "outputs": [],
   "source": [
    "df1 = pd.read_csv(f\"./train_combine_groupby/01_traingroupby.csv\")\n",
    "df1 = addcolumns(df1)\n",
    "def combine_weather(df1:pd.DataFrame):   ###定義函數與中央氣象局每隔10分鐘的天氣資訊合併\n",
    "    weather_df = pd.read_csv(\"../資料前處理以及第三方資料/10mins_weather_data.csv\")  \n",
    "    weather_df[\"DateTime\"] =  pd.to_datetime(weather_df[\"DateTime\"])\n",
    "    weather_df[\"日期\"] = pd.to_datetime(weather_df[\"DateTime\"].dt.date)\n",
    "    weather_df[\"時間\"] = weather_df[\"DateTime\"].dt.hour.astype(str).str.zfill(2)\n",
    "    weather_df[\"時段\"] = weather_df[\"DateTime\"].dt.minute.astype(str).str.zfill(2)\n",
    "    \n",
    "    weather_df.fillna(0,inplace=True)\n",
    "    df = pd.merge(\n",
    "        df1,\n",
    "        weather_df,\n",
    "        left_on=[\"日期\",\"時間\",\"時段\"],\n",
    "        right_on=[\"日期\",\"時間\",\"時段\"],\n",
    "        how=\"left\",\n",
    "        suffixes=[\"\",\"_r\"]\n",
    "    )\n",
    "\n",
    "    return(df)\n",
    "comdf = combine_weather(df1)"
   ]
  },
  {
   "cell_type": "code",
   "execution_count": null,
   "metadata": {},
   "outputs": [
    {
     "data": {
      "text/html": [
       "<div>\n",
       "<style scoped>\n",
       "    .dataframe tbody tr th:only-of-type {\n",
       "        vertical-align: middle;\n",
       "    }\n",
       "\n",
       "    .dataframe tbody tr th {\n",
       "        vertical-align: top;\n",
       "    }\n",
       "\n",
       "    .dataframe thead th {\n",
       "        text-align: right;\n",
       "    }\n",
       "</style>\n",
       "<table border=\"1\" class=\"dataframe\">\n",
       "  <thead>\n",
       "    <tr style=\"text-align: right;\">\n",
       "      <th></th>\n",
       "      <th>Serial</th>\n",
       "      <th>LocationCode</th>\n",
       "      <th>TimeGroup</th>\n",
       "      <th>WindSpeed(m/s)</th>\n",
       "      <th>Pressure(hpa)</th>\n",
       "      <th>Temperature(°C)</th>\n",
       "      <th>Humidity(%)</th>\n",
       "      <th>Sunlight(Lux)</th>\n",
       "      <th>Power(mW)</th>\n",
       "      <th>日期</th>\n",
       "      <th>...</th>\n",
       "      <th>SunshineDuration</th>\n",
       "      <th>UVIndex</th>\n",
       "      <th>AirTemperature</th>\n",
       "      <th>DailyExtremeHighAirTemperature</th>\n",
       "      <th>DailyExtremeLowAirTemperature</th>\n",
       "      <th>RelativeHumidity</th>\n",
       "      <th>VisibilityDescription</th>\n",
       "      <th>StationLatitude</th>\n",
       "      <th>StationLongitude</th>\n",
       "      <th>StationAltitude</th>\n",
       "    </tr>\n",
       "  </thead>\n",
       "  <tbody>\n",
       "    <tr>\n",
       "      <th>15</th>\n",
       "      <td>20240101090001</td>\n",
       "      <td>1</td>\n",
       "      <td>2024-01-01 09:00:00</td>\n",
       "      <td>1.91588</td>\n",
       "      <td>1017.906</td>\n",
       "      <td>18.33</td>\n",
       "      <td>92.29</td>\n",
       "      <td>8395.250</td>\n",
       "      <td>17.368</td>\n",
       "      <td>2024-01-01</td>\n",
       "      <td>...</td>\n",
       "      <td>0.0</td>\n",
       "      <td>0.0</td>\n",
       "      <td>18.8</td>\n",
       "      <td>19.3</td>\n",
       "      <td>18.6</td>\n",
       "      <td>64.0</td>\n",
       "      <td>7-10</td>\n",
       "      <td>23.975128</td>\n",
       "      <td>121.61327</td>\n",
       "      <td>16.1</td>\n",
       "    </tr>\n",
       "    <tr>\n",
       "      <th>16</th>\n",
       "      <td>20240101091001</td>\n",
       "      <td>1</td>\n",
       "      <td>2024-01-01 09:10:00</td>\n",
       "      <td>0.09000</td>\n",
       "      <td>1017.965</td>\n",
       "      <td>18.02</td>\n",
       "      <td>97.37</td>\n",
       "      <td>7046.501</td>\n",
       "      <td>12.612</td>\n",
       "      <td>2024-01-01</td>\n",
       "      <td>...</td>\n",
       "      <td>0.0</td>\n",
       "      <td>0.0</td>\n",
       "      <td>18.9</td>\n",
       "      <td>19.3</td>\n",
       "      <td>18.6</td>\n",
       "      <td>64.0</td>\n",
       "      <td>21-30</td>\n",
       "      <td>23.975128</td>\n",
       "      <td>121.61327</td>\n",
       "      <td>16.1</td>\n",
       "    </tr>\n",
       "  </tbody>\n",
       "</table>\n",
       "<p>2 rows × 25 columns</p>\n",
       "</div>"
      ],
      "text/plain": [
       "            Serial  LocationCode           TimeGroup  WindSpeed(m/s)  \\\n",
       "15  20240101090001             1 2024-01-01 09:00:00         1.91588   \n",
       "16  20240101091001             1 2024-01-01 09:10:00         0.09000   \n",
       "\n",
       "    Pressure(hpa)  Temperature(°C)  Humidity(%)  Sunlight(Lux)  Power(mW)  \\\n",
       "15       1017.906            18.33        92.29       8395.250     17.368   \n",
       "16       1017.965            18.02        97.37       7046.501     12.612   \n",
       "\n",
       "           日期  ... SunshineDuration UVIndex AirTemperature  \\\n",
       "15 2024-01-01  ...              0.0     0.0           18.8   \n",
       "16 2024-01-01  ...              0.0     0.0           18.9   \n",
       "\n",
       "    DailyExtremeHighAirTemperature DailyExtremeLowAirTemperature  \\\n",
       "15                            19.3                          18.6   \n",
       "16                            19.3                          18.6   \n",
       "\n",
       "    RelativeHumidity  VisibilityDescription  StationLatitude  \\\n",
       "15              64.0                   7-10        23.975128   \n",
       "16              64.0                  21-30        23.975128   \n",
       "\n",
       "    StationLongitude  StationAltitude  \n",
       "15         121.61327             16.1  \n",
       "16         121.61327             16.1  \n",
       "\n",
       "[2 rows x 25 columns]"
      ]
     },
     "execution_count": 4,
     "metadata": {},
     "output_type": "execute_result"
    }
   ],
   "source": [
    "def selecttime(df:pd.DataFrame):  #挑選訓練集的時間  可自行定義調整\n",
    "    df[\"TimeGroup\"] = pd.to_datetime(df[\"TimeGroup\"])\n",
    "    df = df[(df[\"TimeGroup\"].dt.hour >= 9) & (df[\"TimeGroup\"].dt.hour < 17)| ((df[\"TimeGroup\"].dt.hour == 17) & (df[\"TimeGroup\"].dt.minute == 0))]\n",
    "    return(df)\n",
    "selecttime(combine_weather(df1)).head(2)"
   ]
  },
  {
   "cell_type": "code",
   "execution_count": 5,
   "metadata": {},
   "outputs": [
    {
     "data": {
      "text/plain": [
       "16"
      ]
     },
     "execution_count": 5,
     "metadata": {},
     "output_type": "execute_result"
    }
   ],
   "source": [
    "os.cpu_count()  #查看有多少運算資源可用"
   ]
  },
  {
   "cell_type": "code",
   "execution_count": null,
   "metadata": {},
   "outputs": [
    {
     "name": "stdout",
     "output_type": "stream",
     "text": [
      "01_weather.pkl  MAE: 593.9418815001604\n",
      "模型已保存至: ./model_each_location\\repeat_train_use_full_data_update_weather_datasingle_location\\01_weather.pkl\n",
      "02_weather.pkl  MAE: 691.5330873848827\n",
      "模型已保存至: ./model_each_location\\repeat_train_use_full_data_update_weather_datasingle_location\\02_weather.pkl\n",
      "03_weather.pkl  MAE: 752.4155791895244\n",
      "模型已保存至: ./model_each_location\\repeat_train_use_full_data_update_weather_datasingle_location\\03_weather.pkl\n",
      "04_weather.pkl  MAE: 626.2070831931559\n",
      "模型已保存至: ./model_each_location\\repeat_train_use_full_data_update_weather_datasingle_location\\04_weather.pkl\n",
      "05_weather.pkl  MAE: 776.3700988279736\n",
      "模型已保存至: ./model_each_location\\repeat_train_use_full_data_update_weather_datasingle_location\\05_weather.pkl\n",
      "06_weather.pkl  MAE: 859.1185987680649\n",
      "模型已保存至: ./model_each_location\\repeat_train_use_full_data_update_weather_datasingle_location\\06_weather.pkl\n",
      "07_weather.pkl  MAE: 822.2066641515225\n",
      "模型已保存至: ./model_each_location\\repeat_train_use_full_data_update_weather_datasingle_location\\07_weather.pkl\n",
      "08_weather.pkl  MAE: 497.9345043043144\n",
      "模型已保存至: ./model_each_location\\repeat_train_use_full_data_update_weather_datasingle_location\\08_weather.pkl\n",
      "09_weather.pkl  MAE: 520.3497600004872\n",
      "模型已保存至: ./model_each_location\\repeat_train_use_full_data_update_weather_datasingle_location\\09_weather.pkl\n",
      "10_weather.pkl  MAE: 612.5562298691402\n",
      "模型已保存至: ./model_each_location\\repeat_train_use_full_data_update_weather_datasingle_location\\10_weather.pkl\n",
      "11_weather.pkl  MAE: 274.9457637477266\n",
      "模型已保存至: ./model_each_location\\repeat_train_use_full_data_update_weather_datasingle_location\\11_weather.pkl\n",
      "12_weather.pkl  MAE: 511.1369480409444\n",
      "模型已保存至: ./model_each_location\\repeat_train_use_full_data_update_weather_datasingle_location\\12_weather.pkl\n",
      "13_weather.pkl  MAE: 538.7974470487619\n",
      "模型已保存至: ./model_each_location\\repeat_train_use_full_data_update_weather_datasingle_location\\13_weather.pkl\n",
      "14_weather.pkl  MAE: 666.1591224506016\n",
      "模型已保存至: ./model_each_location\\repeat_train_use_full_data_update_weather_datasingle_location\\14_weather.pkl\n",
      "15_weather.pkl  MAE: 636.9183171061176\n",
      "模型已保存至: ./model_each_location\\repeat_train_use_full_data_update_weather_datasingle_location\\15_weather.pkl\n",
      "16_weather.pkl  MAE: 565.3028431823849\n",
      "模型已保存至: ./model_each_location\\repeat_train_use_full_data_update_weather_datasingle_location\\16_weather.pkl\n",
      "17_weather.pkl  MAE: 512.856685082681\n",
      "模型已保存至: ./model_each_location\\repeat_train_use_full_data_update_weather_datasingle_location\\17_weather.pkl\n"
     ]
    }
   ],
   "source": [
    "d = {}\n",
    "for i in range(1,18):\n",
    "    l1 = \"0\" + str(i) if i<10 else str(i)\n",
    "    df1 = pd.read_csv(f\"./train_combine_groupby/{l1}_traingroupby.csv\")\n",
    "    df1 = addcolumns(df1)\n",
    "    df1 = combine_weather(df1)\n",
    "    df1 = selecttime(df1)\n",
    "    df1.dropna(inplace=True)\n",
    "    # 以中央氣象局每隔10分鐘的天氣資料當作訓練集X  訓練集Y則為對應到時間的發電量\n",
    "    X = df1.loc[:,[ 'SunshineDuration', 'UVIndex',\n",
    "                'AirTemperature', 'DailyExtremeHighAirTemperature',\n",
    "                'DailyExtremeLowAirTemperature', 'RelativeHumidity',\n",
    "                ]].reset_index(drop=True)\n",
    "    \n",
    "    Y = df1.loc[:,[\"Power(mW)\"]].reset_index(drop=True)\n",
    "    Y = Y.values.ravel()\n",
    "    X_train, X_test, y_train, y_test = train_test_split(X, Y, test_size=0.01, random_state=42) #採用交叉驗證  拿全部資料來做訓練   測試集僅需要少量資料供參考\n",
    "\n",
    "    model = RandomForestRegressor(\n",
    "        n_jobs=12\n",
    "    )  ## 可自行調整參數用 n_estimators= , max_depth=, min_samples_split=\n",
    "    scores = cross_val_score(model, X_train, y_train, scoring='neg_mean_absolute_error', cv=5)\n",
    "    MAE = -sum(scores)\n",
    "    model.fit(X_train, y_train)\n",
    "    \n",
    "    model_file_name = f'{l1}_weather.pkl'  #權重命名為裝置名稱_weather.pkl\n",
    "    model_folder_name = \"repeat_train_use_full_data_update_weather_datasingle_location\"         #將模型相關資訊儲存在這個資料夾下(在競賽結束後有重新測試過本程式碼因此在前面加上repeat_)\n",
    "    model_file_path = os.path.join(\"./model_each_location\",model_folder_name,model_file_name)\n",
    "    os.makedirs(os.path.dirname(model_file_path), exist_ok=True)\n",
    "    joblib.dump(model, model_file_path)\n",
    "    print(model_file_name ,\" MAE:\",MAE )\n",
    "    print(f\"模型已保存至: {model_file_path}\")  #紀錄每個裝置的模型MAE\n",
    "    if model_file_name not in d:\n",
    "        d[model_file_name] = MAE"
   ]
  },
  {
   "cell_type": "markdown",
   "metadata": {},
   "source": [
    "# 紀錄每個model的MAE並且存成json檔案"
   ]
  },
  {
   "cell_type": "code",
   "execution_count": 8,
   "metadata": {},
   "outputs": [],
   "source": [
    "import json\n",
    "json_output = json.dumps(d,indent=4)\n",
    "output_path = f\"./model_each_location/{model_folder_name}/d.json\"\n",
    "with open(output_path, \"w\", encoding=\"utf-8\") as file:\n",
    "    file.write(json_output)"
   ]
  },
  {
   "cell_type": "code",
   "execution_count": null,
   "metadata": {},
   "outputs": [],
   "source": []
  }
 ],
 "metadata": {
  "kernelspec": {
   "display_name": "team7012",
   "language": "python",
   "name": "python3"
  },
  "language_info": {
   "codemirror_mode": {
    "name": "ipython",
    "version": 3
   },
   "file_extension": ".py",
   "mimetype": "text/x-python",
   "name": "python",
   "nbconvert_exporter": "python",
   "pygments_lexer": "ipython3",
   "version": "3.12.0"
  }
 },
 "nbformat": 4,
 "nbformat_minor": 2
}
