{
 "cells": [
  {
   "cell_type": "code",
   "execution_count": null,
   "metadata": {},
   "outputs": [],
   "source": [
    "import pandas as pd\n",
    "import os"
   ]
  },
  {
   "cell_type": "markdown",
   "metadata": {},
   "source": [
    "#### 將訓練資料V1V2版本合併.ipynb所產出的資料每10分鐘group by起來"
   ]
  },
  {
   "cell_type": "code",
   "execution_count": null,
   "metadata": {},
   "outputs": [],
   "source": [
    "filenames = os.listdir(\"./train_data_combine\")"
   ]
  },
  {
   "cell_type": "code",
   "execution_count": null,
   "metadata": {},
   "outputs": [],
   "source": [
    "for filename in filenames:\n",
    "    path = os.path.join(\"./train_data_combine\",filename)\n",
    "    df = pd.read_csv(path)\n",
    "    df[\"DateTime\"] = pd.to_datetime(df[\"DateTime\"])\n",
    "    # 創建 10 分鐘的時間分組\n",
    "    df[\"TimeGroup\"] = df[\"DateTime\"].dt.floor(\"10min\")\n",
    "    # 計算每 10 分鐘的平均值\n",
    "    grouped = df.groupby([\"LocationCode\", \"TimeGroup\"]).mean().reset_index()\n",
    "    grouped[\"YearMonthDay\"] = grouped[\"TimeGroup\"].dt.strftime(\"%Y%m%d\")\n",
    "    grouped[\"HourMinute\"] = grouped[\"TimeGroup\"].dt.strftime(\"%H%M\")\n",
    "    grouped[\"Serial\"] = grouped[\"YearMonthDay\"] + grouped[\"HourMinute\"] + grouped[\"LocationCode\"].astype(str).str.zfill(2)\n",
    "    grouped = grouped[[\"Serial\", \"LocationCode\", \"TimeGroup\", \"WindSpeed(m/s)\", \"Pressure(hpa)\", \n",
    "                   \"Temperature(°C)\", \"Humidity(%)\", \"Sunlight(Lux)\", \"Power(mW)\"]]\n",
    "    grouped[\"LocationCode\"] = grouped[\"LocationCode\"].astype(str).str.zfill(2)\n",
    "    outfile = f\"{grouped.loc[0,\"LocationCode\"]}_traingroupby.csv\"\n",
    "    outpath = \"../模型訓練程式碼/train_combine_groupby\"  #將處理好的資料放入模型訓練程式碼/train_combine_groupby資料夾中\n",
    "    grouped.to_csv(os.path.join(outpath,outfile),index=False)"
   ]
  }
 ],
 "metadata": {
  "kernelspec": {
   "display_name": "mlpowerpy312",
   "language": "python",
   "name": "python3"
  },
  "language_info": {
   "codemirror_mode": {
    "name": "ipython",
    "version": 3
   },
   "file_extension": ".py",
   "mimetype": "text/x-python",
   "name": "python",
   "nbconvert_exporter": "python",
   "pygments_lexer": "ipython3",
   "version": "3.12.7"
  }
 },
 "nbformat": 4,
 "nbformat_minor": 2
}
