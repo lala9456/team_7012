{
 "cells": [
  {
   "cell_type": "code",
   "execution_count": 1,
   "metadata": {},
   "outputs": [],
   "source": [
    "import pandas as pd\n",
    "import os"
   ]
  },
  {
   "cell_type": "markdown",
   "metadata": {},
   "source": [
    "#### 有些裝置在主辦提供的訓練資料有兩個檔案不同月份，將其合併\n",
    "#### 工作路徑下要放入 36_TrainingData以及36_TrainingData_Additional_V2這兩個檔案夾(主辦單位提供之資料夾名稱)"
   ]
  },
  {
   "cell_type": "code",
   "execution_count": null,
   "metadata": {},
   "outputs": [],
   "source": [
    "d1_path = os.listdir(\"./36_TrainingData\")\n",
    "d2_path = os.listdir(\"./36_TrainingData_Additional_V2\")"
   ]
  },
  {
   "cell_type": "code",
   "execution_count": null,
   "metadata": {},
   "outputs": [
    {
     "name": "stdout",
     "output_type": "stream",
     "text": [
      "concat L10_Train.csv L10_Train_2.csv\n",
      "concat L12_Train.csv L12_Train_2.csv\n",
      "concat L2_Train.csv L2_Train_2.csv\n",
      "concat L4_Train.csv L4_Train_2.csv\n",
      "concat L7_Train.csv L7_Train_2.csv\n",
      "concat L8_Train.csv L8_Train_2.csv\n",
      "concat L9_Train.csv L9_Train_2.csv\n"
     ]
    }
   ],
   "source": [
    "for filed1 in d1_path:\n",
    "    location_d1 = filed1.split(\"_\")[0]  #以_切割出裝置的名稱\n",
    "    file_path1 = os.path.join(\"./36_TrainingData\",filed1)\n",
    "    df = pd.read_csv(file_path1)\n",
    "    for filed2 in d2_path:\n",
    "        location_d2 = filed2.split(\"_\")[0]\n",
    "        if location_d1 == location_d2:\n",
    "            file_path2 = os.path.join(\"./36_TrainingData_Additional_V2\",filed2)\n",
    "            df2 = pd.read_csv(file_path2)\n",
    "            df = pd.concat([df,df2],axis=0)\n",
    "            print(\"concat\",filed1,filed2)\n",
    "    df[\"DateTime\"] = pd.to_datetime(df[\"DateTime\"], format='%Y-%m-%d %H:%M:%S.%f').dt.floor(\"min\")\n",
    "    df.drop_duplicates(subset=[\"DateTime\"],keep=\"last\",inplace=True)\n",
    "    df.sort_values(by=[\"DateTime\"],inplace=True)\n",
    "    filename = os.path.join(\"./train_data_combine\",f\"{location_d1}_train.csv\")  #將資料輸出到train_data_combine這個資料夾\n",
    "    df.to_csv(filename,index=False)\n",
    "    # print(df.head)\n",
    "    "
   ]
  },
  {
   "cell_type": "code",
   "execution_count": null,
   "metadata": {},
   "outputs": [],
   "source": []
  }
 ],
 "metadata": {
  "kernelspec": {
   "display_name": "mlpowerpy312",
   "language": "python",
   "name": "python3"
  },
  "language_info": {
   "codemirror_mode": {
    "name": "ipython",
    "version": 3
   },
   "file_extension": ".py",
   "mimetype": "text/x-python",
   "name": "python",
   "nbconvert_exporter": "python",
   "pygments_lexer": "ipython3",
   "version": "3.12.7"
  }
 },
 "nbformat": 4,
 "nbformat_minor": 2
}
