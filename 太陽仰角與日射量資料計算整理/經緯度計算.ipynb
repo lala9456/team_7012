{
 "cells": [
  {
   "cell_type": "code",
   "execution_count": 20,
   "metadata": {},
   "outputs": [],
   "source": [
    "import pandas as pd"
   ]
  },
  {
   "cell_type": "code",
   "execution_count": 21,
   "metadata": {},
   "outputs": [],
   "source": [
    "# 根據圖片的資料手動建立DataFrame\n",
    "# 17號無資料\n",
    "data = {\n",
    "    \"location\": [\n",
    "    \"1\", \"2\", \"3\", \"4\", \"5\", \"6\", \"7\",\n",
    "    \"8\", \"9\", \"10\", \"11\", \"12\", \"13\", \"14\",\n",
    "    \"15\", \"16\",\"17\"\n",
    "    ],\n",
    "    \"地點名稱\": [\n",
    "        \"頂樓一號\", \"頂樓二號\", \"頂樓三號\", \"頂樓四號\", \"頂樓五號\", \"頂樓六號\", \"頂樓七號\",\n",
    "        \"D303\", \"E303\", \"一樓一號\", \"一樓二號\", \"一樓三號\", \"管理一號\", \"管理二號\",\n",
    "        \"美崙一號\", \"美崙二號\", \"自家倉庫\"\n",
    "    ],\n",
    "    \"經度\": [\n",
    "        \"121°32'40''E\", \"121°32'41''E\", \"121°32'42''E\", \"121°32'40''E\",\n",
    "        \"121°32'41''E\", \"121°32'40''E\", \"121°32'40''E\", \"121°32'42''E\",\n",
    "        \"121°32'40''E\", \"121°32'40''E\", \"121°32'41''E\", \"121°32'41''E\",\n",
    "        \"121°32'22''E\", \"121°32'22''E\", \"121°37'02''E\", \"121°37'02''E\",\n",
    "        \"121°36'00''E\"\n",
    "    ],\n",
    "    \"緯度\": [\n",
    "        \"23°53'58''N\", \"23°53'59''N\", \"23°53'59''N\", \"23°53'58''N\",\n",
    "        \"23°53'58''N\", \"23°53'58''N\", \"23°53'58''N\", \"23°53'59''N\",\n",
    "        \"23°53'58''N\", \"23°53'58''N\", \"23°53'59''N\", \"23°53'59''N\",\n",
    "        \"23°53'52''N\", \"23°53'52''N\", \"24°00'33''N\", \"24°00'32''N\",\n",
    "        \"23°59'00''N\"\n",
    "    ],\n",
    "    \"方位角\": [\n",
    "        181, 175, 180, 161, 208, 208, 172,\n",
    "        219, 151, 223, 131, 298, 249, 197,\n",
    "        127, 82, 185.125 \n",
    "    ]\n",
    "}\n",
    "\n",
    "# 將經緯度轉換為小數格式的函數\n",
    "def convert_to_decimal(degree_str):\n",
    "    direction = degree_str[-1]\n",
    "    degree, minute, second = map(float, degree_str[:-1].replace(\"°\", \" \").replace(\"'\", \" \").replace(\"''\", \"\").split())\n",
    "    decimal = degree + (minute / 60) + (second / 3600)\n",
    "    if direction in ['S', 'W']:\n",
    "        decimal = -decimal\n",
    "    return decimal\n",
    "\n",
    "# 轉換經緯度\n",
    "data[\"經度\"] = [convert_to_decimal(coord) for coord in data[\"經度\"]]\n",
    "data[\"緯度\"] = [convert_to_decimal(coord) for coord in data[\"緯度\"]]\n",
    "\n",
    "# 建立 DataFrame\n",
    "df = pd.DataFrame(data)\n",
    "\n"
   ]
  },
  {
   "cell_type": "code",
   "execution_count": 22,
   "metadata": {},
   "outputs": [],
   "source": [
    "df.to_csv(\"lat_lontable.csv\",index=False)"
   ]
  },
  {
   "cell_type": "code",
   "execution_count": 19,
   "metadata": {},
   "outputs": [
    {
     "data": {
      "text/plain": [
       "185.125"
      ]
     },
     "execution_count": 19,
     "metadata": {},
     "output_type": "execute_result"
    }
   ],
   "source": [
    "a = [181, 175, 180, 161, 208, 208, 172,\n",
    "219, 151, 223, 131, 298, 249, 197,\n",
    "127, 82]\n",
    "pd.DataFrame(a,columns=[\"a\"])[\"a\"].mean()"
   ]
  }
 ],
 "metadata": {
  "kernelspec": {
   "display_name": "mlpowerpy312",
   "language": "python",
   "name": "python3"
  },
  "language_info": {
   "codemirror_mode": {
    "name": "ipython",
    "version": 3
   },
   "file_extension": ".py",
   "mimetype": "text/x-python",
   "name": "python",
   "nbconvert_exporter": "python",
   "pygments_lexer": "ipython3",
   "version": "3.12.7"
  }
 },
 "nbformat": 4,
 "nbformat_minor": 2
}
